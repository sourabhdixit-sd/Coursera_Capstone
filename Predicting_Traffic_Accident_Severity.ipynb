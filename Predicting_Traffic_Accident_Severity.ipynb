{
 "cells": [
  {
   "cell_type": "markdown",
   "metadata": {},
   "source": [
    "# Capstone Project - Predicting Traffic Accident Severity"
   ]
  },
  {
   "cell_type": "markdown",
   "metadata": {},
   "source": [
    "## 1. Introduction"
   ]
  },
  {
   "cell_type": "markdown",
   "metadata": {},
   "source": [
    "Road traffic injuries are currently estimated to be the eighth leading cause of death across all age groups globally, and are predicted to become the seventh leading cause of death by 2030.\n",
    "\n",
    "Analysing a significant range of factors, including weather conditions, special events, roadworks, traffic jams among others, an accurate prediction of the severity of the accidents can be performed.\n",
    "\n",
    "These insights, could allow law enforcement bodies to allocate their resources more effectively in advance of potential accidents, preventing when and where a severe accidents can occur as well as saving both, time and money. In addition, this knowledge of a severe accident situation can be warned to drivers so that they would drive more carefully or even change their route if it is possible or to hospital which could have set everything ready for a severe intervention in advance.\n",
    "\n",
    "Governments should be highly interested in accurate predictions of the severity of an accident, in order to reduce the time of arrival and thus save a significant amount of people each year. Others interested could be private companies investing in technologies aiming to improve road safeness.\n",
    "\n",
    "The Seattle government is going to prevent avoidable car accidents by employing methods that alert drivers through alert display system and police to be more careful in critical situations.In most cases, not paying enough attention during driving, drugs and alcohol or driving at very high speed for fun/competition are the main causes of occurring accidents that can be prevented by deploying harsher regulations. Besides the aforementioned causes, weather, visibility, or road conditions are the major uncontrollable factors that can be prevented by revealing hidden patterns in the data and announcing warning to the local government, police and drivers on the targeted roads.\n",
    "\n",
    "The target audience of the project is local Seattle government, police, rescue groups and insurance organisation as well. This model results will provide them to make insightful decisions for reducing the number of accidents for the city."
   ]
  },
  {
   "cell_type": "markdown",
   "metadata": {},
   "source": [
    "## 2. Data "
   ]
  },
  {
   "cell_type": "markdown",
   "metadata": {},
   "source": [
    "The data was collected by the Seattle Police Department and Accident Traffic Records Department from 2004 to present. The data consists of 37 independent variables and 194,673 rows. The dependent variable, “SEVERITYCODE”, contains numbers that correspond to different levels of severity caused by an accident from 0 to 4. Severity codes are as follows:\n",
    "\n",
    "0: No Probability Clear Conditions)\n",
    "1: Very Low Probability — Chance or Property Damage\n",
    "2: Low Probability — Chance of Injury\n",
    "3: Mild Probability — Chance of Serious Injury\n",
    "4: High Probability — Chance of Fatality\n",
    "Furthermore, because of the existence of null values in some records, the data needs to be preprocessed before any further processing. Among all the features, I believe the following features have the most influence in the accuracy of the predictions:\n",
    "\n",
    "“WEATHER”,\n",
    "“ROADCOND”,\n",
    "“LIGHTCOND”\n",
    "The target variable is “SEVERITYCODE”.\n",
    "\n",
    "\n",
    "The models aim was to predict the severity of an accident, considering that, the variable of\n",
    "Severity Code was in the form of 1 (Property Damage Only) and 2 (Injury Collision) which were encoded\n",
    "to the form of 0 (Property Damage Only) and 1 (Injury Collision). Furthermore, the Y was given value of 1\n",
    "whereas N and no value was given 0 for the variables Inattention, Speeding and Under the influence. For\n",
    "lighting condition, Light was given 0 along with Medium as 1 and Dark as 2. For Road Condition, Dry was\n",
    "assigned 0, Mushy was assigned 1 and Wet was given 2. As for Weather Condition, 0 is Clear, Overcast is\n",
    "1, Windy is 2 and Rain and Snow was given 3. 0 was assigned to the element of each variable which can\n",
    "be the least probable cause of severe accident whereas a high number represented adverse condition\n",
    "which can lead to a higher accident severity. "
   ]
  },
  {
   "cell_type": "code",
   "execution_count": 1,
   "metadata": {},
   "outputs": [],
   "source": [
    "import pandas as pd\n",
    "import numpy as np\n",
    "import seaborn as sns\n",
    "\n",
    "import matplotlib.pyplot as plt\n",
    "\n",
    "import datetime as dt\n",
    "\n",
    "import warnings\n",
    "warnings.filterwarnings('ignore')"
   ]
  },
  {
   "cell_type": "markdown",
   "metadata": {},
   "source": [
    "## 3. Missing Values\n"
   ]
  },
  {
   "cell_type": "code",
   "execution_count": 2,
   "metadata": {},
   "outputs": [
    {
     "data": {
      "text/html": [
       "<div>\n",
       "<style scoped>\n",
       "    .dataframe tbody tr th:only-of-type {\n",
       "        vertical-align: middle;\n",
       "    }\n",
       "\n",
       "    .dataframe tbody tr th {\n",
       "        vertical-align: top;\n",
       "    }\n",
       "\n",
       "    .dataframe thead th {\n",
       "        text-align: right;\n",
       "    }\n",
       "</style>\n",
       "<table border=\"1\" class=\"dataframe\">\n",
       "  <thead>\n",
       "    <tr style=\"text-align: right;\">\n",
       "      <th></th>\n",
       "      <th>X</th>\n",
       "      <th>Y</th>\n",
       "      <th>OBJECTID</th>\n",
       "      <th>INCKEY</th>\n",
       "      <th>COLDETKEY</th>\n",
       "      <th>REPORTNO</th>\n",
       "      <th>STATUS</th>\n",
       "      <th>ADDRTYPE</th>\n",
       "      <th>INTKEY</th>\n",
       "      <th>LOCATION</th>\n",
       "      <th>...</th>\n",
       "      <th>ROADCOND</th>\n",
       "      <th>LIGHTCOND</th>\n",
       "      <th>PEDROWNOTGRNT</th>\n",
       "      <th>SDOTCOLNUM</th>\n",
       "      <th>SPEEDING</th>\n",
       "      <th>ST_COLCODE</th>\n",
       "      <th>ST_COLDESC</th>\n",
       "      <th>SEGLANEKEY</th>\n",
       "      <th>CROSSWALKKEY</th>\n",
       "      <th>HITPARKEDCAR</th>\n",
       "    </tr>\n",
       "    <tr>\n",
       "      <th>SEVERITYCODE</th>\n",
       "      <th></th>\n",
       "      <th></th>\n",
       "      <th></th>\n",
       "      <th></th>\n",
       "      <th></th>\n",
       "      <th></th>\n",
       "      <th></th>\n",
       "      <th></th>\n",
       "      <th></th>\n",
       "      <th></th>\n",
       "      <th></th>\n",
       "      <th></th>\n",
       "      <th></th>\n",
       "      <th></th>\n",
       "      <th></th>\n",
       "      <th></th>\n",
       "      <th></th>\n",
       "      <th></th>\n",
       "      <th></th>\n",
       "      <th></th>\n",
       "      <th></th>\n",
       "    </tr>\n",
       "  </thead>\n",
       "  <tbody>\n",
       "    <tr>\n",
       "      <th>2</th>\n",
       "      <td>-122.323148</td>\n",
       "      <td>47.703140</td>\n",
       "      <td>1</td>\n",
       "      <td>1307</td>\n",
       "      <td>1307</td>\n",
       "      <td>3502005</td>\n",
       "      <td>Matched</td>\n",
       "      <td>Intersection</td>\n",
       "      <td>37475.0</td>\n",
       "      <td>5TH AVE NE AND NE 103RD ST</td>\n",
       "      <td>...</td>\n",
       "      <td>Wet</td>\n",
       "      <td>Daylight</td>\n",
       "      <td>NaN</td>\n",
       "      <td>NaN</td>\n",
       "      <td>NaN</td>\n",
       "      <td>10</td>\n",
       "      <td>Entering at angle</td>\n",
       "      <td>0</td>\n",
       "      <td>0</td>\n",
       "      <td>N</td>\n",
       "    </tr>\n",
       "    <tr>\n",
       "      <th>1</th>\n",
       "      <td>-122.347294</td>\n",
       "      <td>47.647172</td>\n",
       "      <td>2</td>\n",
       "      <td>52200</td>\n",
       "      <td>52200</td>\n",
       "      <td>2607959</td>\n",
       "      <td>Matched</td>\n",
       "      <td>Block</td>\n",
       "      <td>NaN</td>\n",
       "      <td>AURORA BR BETWEEN RAYE ST AND BRIDGE WAY N</td>\n",
       "      <td>...</td>\n",
       "      <td>Wet</td>\n",
       "      <td>Dark - Street Lights On</td>\n",
       "      <td>NaN</td>\n",
       "      <td>6354039.0</td>\n",
       "      <td>NaN</td>\n",
       "      <td>11</td>\n",
       "      <td>From same direction - both going straight - bo...</td>\n",
       "      <td>0</td>\n",
       "      <td>0</td>\n",
       "      <td>N</td>\n",
       "    </tr>\n",
       "    <tr>\n",
       "      <th>1</th>\n",
       "      <td>-122.334540</td>\n",
       "      <td>47.607871</td>\n",
       "      <td>3</td>\n",
       "      <td>26700</td>\n",
       "      <td>26700</td>\n",
       "      <td>1482393</td>\n",
       "      <td>Matched</td>\n",
       "      <td>Block</td>\n",
       "      <td>NaN</td>\n",
       "      <td>4TH AVE BETWEEN SENECA ST AND UNIVERSITY ST</td>\n",
       "      <td>...</td>\n",
       "      <td>Dry</td>\n",
       "      <td>Daylight</td>\n",
       "      <td>NaN</td>\n",
       "      <td>4323031.0</td>\n",
       "      <td>NaN</td>\n",
       "      <td>32</td>\n",
       "      <td>One parked--one moving</td>\n",
       "      <td>0</td>\n",
       "      <td>0</td>\n",
       "      <td>N</td>\n",
       "    </tr>\n",
       "    <tr>\n",
       "      <th>1</th>\n",
       "      <td>-122.334803</td>\n",
       "      <td>47.604803</td>\n",
       "      <td>4</td>\n",
       "      <td>1144</td>\n",
       "      <td>1144</td>\n",
       "      <td>3503937</td>\n",
       "      <td>Matched</td>\n",
       "      <td>Block</td>\n",
       "      <td>NaN</td>\n",
       "      <td>2ND AVE BETWEEN MARION ST AND MADISON ST</td>\n",
       "      <td>...</td>\n",
       "      <td>Dry</td>\n",
       "      <td>Daylight</td>\n",
       "      <td>NaN</td>\n",
       "      <td>NaN</td>\n",
       "      <td>NaN</td>\n",
       "      <td>23</td>\n",
       "      <td>From same direction - all others</td>\n",
       "      <td>0</td>\n",
       "      <td>0</td>\n",
       "      <td>N</td>\n",
       "    </tr>\n",
       "    <tr>\n",
       "      <th>2</th>\n",
       "      <td>-122.306426</td>\n",
       "      <td>47.545739</td>\n",
       "      <td>5</td>\n",
       "      <td>17700</td>\n",
       "      <td>17700</td>\n",
       "      <td>1807429</td>\n",
       "      <td>Matched</td>\n",
       "      <td>Intersection</td>\n",
       "      <td>34387.0</td>\n",
       "      <td>SWIFT AVE S AND SWIFT AV OFF RP</td>\n",
       "      <td>...</td>\n",
       "      <td>Wet</td>\n",
       "      <td>Daylight</td>\n",
       "      <td>NaN</td>\n",
       "      <td>4028032.0</td>\n",
       "      <td>NaN</td>\n",
       "      <td>10</td>\n",
       "      <td>Entering at angle</td>\n",
       "      <td>0</td>\n",
       "      <td>0</td>\n",
       "      <td>N</td>\n",
       "    </tr>\n",
       "  </tbody>\n",
       "</table>\n",
       "<p>5 rows × 37 columns</p>\n",
       "</div>"
      ],
      "text/plain": [
       "                       X          Y  OBJECTID  INCKEY  COLDETKEY REPORTNO  \\\n",
       "SEVERITYCODE                                                                \n",
       "2            -122.323148  47.703140         1    1307       1307  3502005   \n",
       "1            -122.347294  47.647172         2   52200      52200  2607959   \n",
       "1            -122.334540  47.607871         3   26700      26700  1482393   \n",
       "1            -122.334803  47.604803         4    1144       1144  3503937   \n",
       "2            -122.306426  47.545739         5   17700      17700  1807429   \n",
       "\n",
       "               STATUS      ADDRTYPE   INTKEY  \\\n",
       "SEVERITYCODE                                   \n",
       "2             Matched  Intersection  37475.0   \n",
       "1             Matched         Block      NaN   \n",
       "1             Matched         Block      NaN   \n",
       "1             Matched         Block      NaN   \n",
       "2             Matched  Intersection  34387.0   \n",
       "\n",
       "                                                 LOCATION  ... ROADCOND  \\\n",
       "SEVERITYCODE                                               ...            \n",
       "2                              5TH AVE NE AND NE 103RD ST  ...      Wet   \n",
       "1              AURORA BR BETWEEN RAYE ST AND BRIDGE WAY N  ...      Wet   \n",
       "1             4TH AVE BETWEEN SENECA ST AND UNIVERSITY ST  ...      Dry   \n",
       "1                2ND AVE BETWEEN MARION ST AND MADISON ST  ...      Dry   \n",
       "2                         SWIFT AVE S AND SWIFT AV OFF RP  ...      Wet   \n",
       "\n",
       "                            LIGHTCOND  PEDROWNOTGRNT SDOTCOLNUM SPEEDING  \\\n",
       "SEVERITYCODE                                                               \n",
       "2                            Daylight            NaN        NaN      NaN   \n",
       "1             Dark - Street Lights On            NaN  6354039.0      NaN   \n",
       "1                            Daylight            NaN  4323031.0      NaN   \n",
       "1                            Daylight            NaN        NaN      NaN   \n",
       "2                            Daylight            NaN  4028032.0      NaN   \n",
       "\n",
       "              ST_COLCODE                                         ST_COLDESC  \\\n",
       "SEVERITYCODE                                                                  \n",
       "2                     10                                  Entering at angle   \n",
       "1                     11  From same direction - both going straight - bo...   \n",
       "1                     32                             One parked--one moving   \n",
       "1                     23                   From same direction - all others   \n",
       "2                     10                                  Entering at angle   \n",
       "\n",
       "              SEGLANEKEY  CROSSWALKKEY HITPARKEDCAR  \n",
       "SEVERITYCODE                                         \n",
       "2                      0             0            N  \n",
       "1                      0             0            N  \n",
       "1                      0             0            N  \n",
       "1                      0             0            N  \n",
       "2                      0             0            N  \n",
       "\n",
       "[5 rows x 37 columns]"
      ]
     },
     "execution_count": 2,
     "metadata": {},
     "output_type": "execute_result"
    }
   ],
   "source": [
    "df = pd.read_csv('Data-Collisions.csv', index_col=0)\n",
    "df.head(5)"
   ]
  },
  {
   "cell_type": "code",
   "execution_count": 3,
   "metadata": {},
   "outputs": [
    {
     "data": {
      "text/plain": [
       "(194673, 37)"
      ]
     },
     "execution_count": 3,
     "metadata": {},
     "output_type": "execute_result"
    }
   ],
   "source": [
    "df.shape"
   ]
  },
  {
   "cell_type": "code",
   "execution_count": 4,
   "metadata": {},
   "outputs": [
    {
     "name": "stdout",
     "output_type": "stream",
     "text": [
      "<class 'pandas.core.frame.DataFrame'>\n",
      "Int64Index: 194673 entries, 2 to 1\n",
      "Data columns (total 37 columns):\n",
      " #   Column          Non-Null Count   Dtype  \n",
      "---  ------          --------------   -----  \n",
      " 0   X               189339 non-null  float64\n",
      " 1   Y               189339 non-null  float64\n",
      " 2   OBJECTID        194673 non-null  int64  \n",
      " 3   INCKEY          194673 non-null  int64  \n",
      " 4   COLDETKEY       194673 non-null  int64  \n",
      " 5   REPORTNO        194673 non-null  object \n",
      " 6   STATUS          194673 non-null  object \n",
      " 7   ADDRTYPE        192747 non-null  object \n",
      " 8   INTKEY          65070 non-null   float64\n",
      " 9   LOCATION        191996 non-null  object \n",
      " 10  EXCEPTRSNCODE   84811 non-null   object \n",
      " 11  EXCEPTRSNDESC   5638 non-null    object \n",
      " 12  SEVERITYCODE.1  194673 non-null  int64  \n",
      " 13  SEVERITYDESC    194673 non-null  object \n",
      " 14  COLLISIONTYPE   189769 non-null  object \n",
      " 15  PERSONCOUNT     194673 non-null  int64  \n",
      " 16  PEDCOUNT        194673 non-null  int64  \n",
      " 17  PEDCYLCOUNT     194673 non-null  int64  \n",
      " 18  VEHCOUNT        194673 non-null  int64  \n",
      " 19  INCDATE         194673 non-null  object \n",
      " 20  INCDTTM         194673 non-null  object \n",
      " 21  JUNCTIONTYPE    188344 non-null  object \n",
      " 22  SDOT_COLCODE    194673 non-null  int64  \n",
      " 23  SDOT_COLDESC    194673 non-null  object \n",
      " 24  INATTENTIONIND  29805 non-null   object \n",
      " 25  UNDERINFL       189789 non-null  object \n",
      " 26  WEATHER         189592 non-null  object \n",
      " 27  ROADCOND        189661 non-null  object \n",
      " 28  LIGHTCOND       189503 non-null  object \n",
      " 29  PEDROWNOTGRNT   4667 non-null    object \n",
      " 30  SDOTCOLNUM      114936 non-null  float64\n",
      " 31  SPEEDING        9333 non-null    object \n",
      " 32  ST_COLCODE      194655 non-null  object \n",
      " 33  ST_COLDESC      189769 non-null  object \n",
      " 34  SEGLANEKEY      194673 non-null  int64  \n",
      " 35  CROSSWALKKEY    194673 non-null  int64  \n",
      " 36  HITPARKEDCAR    194673 non-null  object \n",
      "dtypes: float64(4), int64(11), object(22)\n",
      "memory usage: 56.4+ MB\n"
     ]
    }
   ],
   "source": [
    "df.info()"
   ]
  },
  {
   "cell_type": "markdown",
   "metadata": {},
   "source": [
    "From the summary of the data we see that the data types are coherent with their respective values, with the only exception of the date, and that some features have missing values.\n",
    "\n",
    "More than half of the values for the coordenates are missing, as well as roughly a 10% of the data regarding the road_num and more than a 50% of the remaining samples are a 0. Thus, to keep the amount of samples the mentioned features will be dropped in addition to features where the values are missing."
   ]
  },
  {
   "cell_type": "code",
   "execution_count": 5,
   "metadata": {},
   "outputs": [
    {
     "data": {
      "text/plain": [
       "X                   5334\n",
       "Y                   5334\n",
       "OBJECTID               0\n",
       "INCKEY                 0\n",
       "COLDETKEY              0\n",
       "REPORTNO               0\n",
       "STATUS                 0\n",
       "ADDRTYPE            1926\n",
       "INTKEY            129603\n",
       "LOCATION            2677\n",
       "EXCEPTRSNCODE     109862\n",
       "EXCEPTRSNDESC     189035\n",
       "SEVERITYCODE.1         0\n",
       "SEVERITYDESC           0\n",
       "COLLISIONTYPE       4904\n",
       "PERSONCOUNT            0\n",
       "PEDCOUNT               0\n",
       "PEDCYLCOUNT            0\n",
       "VEHCOUNT               0\n",
       "INCDATE                0\n",
       "INCDTTM                0\n",
       "JUNCTIONTYPE        6329\n",
       "SDOT_COLCODE           0\n",
       "SDOT_COLDESC           0\n",
       "INATTENTIONIND    164868\n",
       "UNDERINFL           4884\n",
       "WEATHER             5081\n",
       "ROADCOND            5012\n",
       "LIGHTCOND           5170\n",
       "PEDROWNOTGRNT     190006\n",
       "SDOTCOLNUM         79737\n",
       "SPEEDING          185340\n",
       "ST_COLCODE            18\n",
       "ST_COLDESC          4904\n",
       "SEGLANEKEY             0\n",
       "CROSSWALKKEY           0\n",
       "HITPARKEDCAR           0\n",
       "dtype: int64"
      ]
     },
     "execution_count": 5,
     "metadata": {},
     "output_type": "execute_result"
    }
   ],
   "source": [
    "# missing values\n",
    "df.isna().sum()"
   ]
  },
  {
   "cell_type": "code",
   "execution_count": 6,
   "metadata": {},
   "outputs": [],
   "source": [
    "df = df.rename(columns = {'SEVERITYCODE.1':'SEVERITYCODE'})"
   ]
  },
  {
   "cell_type": "code",
   "execution_count": 7,
   "metadata": {},
   "outputs": [
    {
     "data": {
      "text/plain": [
       "1    136485\n",
       "2     58188\n",
       "Name: SEVERITYCODE, dtype: int64"
      ]
     },
     "execution_count": 7,
     "metadata": {},
     "output_type": "execute_result"
    }
   ],
   "source": [
    "df['SEVERITYCODE'].value_counts()"
   ]
  },
  {
   "cell_type": "code",
   "execution_count": 8,
   "metadata": {},
   "outputs": [
    {
     "data": {
      "text/plain": [
       "WEATHER                   SEVERITYCODE\n",
       "Blowing Sand/Dirt         1               0.732143\n",
       "                          2               0.267857\n",
       "Clear                     1               0.677509\n",
       "                          2               0.322491\n",
       "Fog/Smog/Smoke            1               0.671353\n",
       "                          2               0.328647\n",
       "Other                     1               0.860577\n",
       "                          2               0.139423\n",
       "Overcast                  1               0.684456\n",
       "                          2               0.315544\n",
       "Partly Cloudy             2               0.600000\n",
       "                          1               0.400000\n",
       "Raining                   1               0.662815\n",
       "                          2               0.337185\n",
       "Severe Crosswind          1               0.720000\n",
       "                          2               0.280000\n",
       "Sleet/Hail/Freezing Rain  1               0.752212\n",
       "                          2               0.247788\n",
       "Snowing                   1               0.811466\n",
       "                          2               0.188534\n",
       "Unknown                   1               0.945928\n",
       "                          2               0.054072\n",
       "Name: SEVERITYCODE, dtype: float64"
      ]
     },
     "execution_count": 8,
     "metadata": {},
     "output_type": "execute_result"
    }
   ],
   "source": [
    "df.groupby([\"WEATHER\"])[\"SEVERITYCODE\"].value_counts(normalize=True)"
   ]
  },
  {
   "cell_type": "code",
   "execution_count": 9,
   "metadata": {},
   "outputs": [
    {
     "data": {
      "text/plain": [
       "Dry               124510\n",
       "Wet                47474\n",
       "Unknown            15078\n",
       "Ice                 1209\n",
       "Snow/Slush          1004\n",
       "Other                132\n",
       "Standing Water       115\n",
       "Sand/Mud/Dirt         75\n",
       "Oil                   64\n",
       "Name: ROADCOND, dtype: int64"
      ]
     },
     "execution_count": 9,
     "metadata": {},
     "output_type": "execute_result"
    }
   ],
   "source": [
    "df[\"ROADCOND\"].value_counts()"
   ]
  },
  {
   "cell_type": "code",
   "execution_count": 10,
   "metadata": {},
   "outputs": [
    {
     "data": {
      "text/plain": [
       "Daylight                    116137\n",
       "Dark - Street Lights On      48507\n",
       "Unknown                      13473\n",
       "Dusk                          5902\n",
       "Dawn                          2502\n",
       "Dark - No Street Lights       1537\n",
       "Dark - Street Lights Off      1199\n",
       "Other                          235\n",
       "Dark - Unknown Lighting         11\n",
       "Name: LIGHTCOND, dtype: int64"
      ]
     },
     "execution_count": 10,
     "metadata": {},
     "output_type": "execute_result"
    }
   ],
   "source": [
    "df[\"LIGHTCOND\"].value_counts()\n"
   ]
  },
  {
   "cell_type": "code",
   "execution_count": 11,
   "metadata": {},
   "outputs": [],
   "source": [
    "df['time'] = pd.to_datetime(df['INCDTTM'])\n",
    "\n",
    "\n",
    "df['Month']   = df['time'].dt.strftime('%b')\n",
    "df['Hour']    = df['time'].dt.hour\n",
    "df['Weekday'] = df['time'].dt.strftime('%a')"
   ]
  },
  {
   "cell_type": "markdown",
   "metadata": {},
   "source": [
    "### Accidents  vs Weather visualization"
   ]
  },
  {
   "cell_type": "code",
   "execution_count": 12,
   "metadata": {},
   "outputs": [
    {
     "data": {
      "image/png": "[encoded data removed]",
      "text/plain": [
       "<Figure size 1080x720 with 1 Axes>"
      ]
     },
     "metadata": {
      "needs_background": "light"
     },
     "output_type": "display_data"
    }
   ],
   "source": [
    "df['weather'] = df['WEATHER'].astype('str')\n",
    "\n",
    "plt.figure(figsize=(15,10))\n",
    "ax = sns.histplot(x=\"weather\", hue=\"SEVERITYCODE\", data=df)\n",
    "plt.setp(ax.get_xticklabels(), rotation=30);"
   ]
  },
  {
   "cell_type": "markdown",
   "metadata": {},
   "source": [
    "### Accidents vs Weekdays Visualization"
   ]
  },
  {
   "cell_type": "code",
   "execution_count": 13,
   "metadata": {},
   "outputs": [
    {
     "data": {
      "text/plain": [
       "[None,\n",
       " None,\n",
       " None,\n",
       " None,\n",
       " None,\n",
       " None,\n",
       " None,\n",
       " None,\n",
       " None,\n",
       " None,\n",
       " None,\n",
       " None,\n",
       " None,\n",
       " None]"
      ]
     },
     "execution_count": 13,
     "metadata": {},
     "output_type": "execute_result"
    },
    {
     "data": {
      "image/png": "[encoded data removed]",
      "text/plain": [
       "<Figure size 1080x720 with 1 Axes>"
      ]
     },
     "metadata": {
      "needs_background": "light"
     },
     "output_type": "display_data"
    }
   ],
   "source": [
    "df['weekday'] = df['Weekday'].astype('str')\n",
    "\n",
    "plt.figure(figsize=(15,10))\n",
    "ax = sns.histplot(x=\"weekday\", hue=\"SEVERITYCODE\", data=df)\n",
    "plt.setp(ax.get_xticklabels(), rotation=30)"
   ]
  },
  {
   "cell_type": "markdown",
   "metadata": {},
   "source": [
    "### Accidents vs Light Condition Visualization"
   ]
  },
  {
   "cell_type": "code",
   "execution_count": 14,
   "metadata": {},
   "outputs": [
    {
     "data": {
      "image/png": "[encoded data removed]",
      "text/plain": [
       "<Figure size 1080x720 with 1 Axes>"
      ]
     },
     "metadata": {
      "needs_background": "light"
     },
     "output_type": "display_data"
    }
   ],
   "source": [
    "df['lightcond'] = df['LIGHTCOND'].astype('str')\n",
    "\n",
    "plt.figure(figsize=(15,10))\n",
    "ax = sns.histplot(x=\"lightcond\", hue=\"SEVERITYCODE\", data=df)\n",
    "plt.setp(ax.get_xticklabels(), rotation=30);"
   ]
  },
  {
   "cell_type": "markdown",
   "metadata": {},
   "source": [
    "### Accidents vs Road Condition Visualization"
   ]
  },
  {
   "cell_type": "code",
   "execution_count": 15,
   "metadata": {},
   "outputs": [
    {
     "data": {
      "image/png": "[encoded data removed]",
      "text/plain": [
       "<Figure size 1080x720 with 1 Axes>"
      ]
     },
     "metadata": {
      "needs_background": "light"
     },
     "output_type": "display_data"
    }
   ],
   "source": [
    "df['roadcond'] = df['ROADCOND'].astype('str')\n",
    "\n",
    "plt.figure(figsize=(15,10))\n",
    "ax = sns.histplot(x=\"roadcond\", hue=\"SEVERITYCODE\", data=df)\n",
    "plt.setp(ax.get_xticklabels(), rotation=30);"
   ]
  },
  {
   "cell_type": "markdown",
   "metadata": {},
   "source": [
    "### Accidents vs Junction Type Visualization"
   ]
  },
  {
   "cell_type": "code",
   "execution_count": 16,
   "metadata": {},
   "outputs": [
    {
     "data": {
      "image/png": "[encoded data removed]",
      "text/plain": [
       "<Figure size 1080x720 with 1 Axes>"
      ]
     },
     "metadata": {
      "needs_background": "light"
     },
     "output_type": "display_data"
    }
   ],
   "source": [
    "df['junctiontype'] = df['JUNCTIONTYPE'].astype('str')\n",
    "\n",
    "plt.figure(figsize=(15,10))\n",
    "ax = sns.histplot(x=\"junctiontype\", hue=\"SEVERITYCODE\", data=df)\n",
    "plt.setp(ax.get_xticklabels(), rotation=30);"
   ]
  },
  {
   "cell_type": "code",
   "execution_count": 36,
   "metadata": {},
   "outputs": [
    {
     "data": {
      "text/plain": [
       "2    50000\n",
       "1    50000\n",
       "Name: SEVERITYCODE, dtype: int64"
      ]
     },
     "execution_count": 36,
     "metadata": {},
     "output_type": "execute_result"
    }
   ],
   "source": [
    "from sklearn.utils import resample\n",
    "pre_df_maj = df[df.SEVERITYCODE==1]\n",
    "pre_df_min = df[df.SEVERITYCODE==2]\n",
    "\n",
    "pre_df_maj_dsample = resample(pre_df_maj,\n",
    "                              replace=False,\n",
    "                              n_samples=50000,\n",
    "                              random_state=123)\n",
    "\n",
    "pre_df_min_sample = resample(pre_df_min,replace = False,n_samples = 50000,random_state=123)\n",
    "balanced_df = pd.concat([pre_df_maj_dsample, pre_df_min_sample])\n",
    "\n",
    "balanced_df.SEVERITYCODE.value_counts()"
   ]
  },
  {
   "cell_type": "code",
   "execution_count": 37,
   "metadata": {},
   "outputs": [
    {
     "data": {
      "text/plain": [
       "(100000, 46)"
      ]
     },
     "execution_count": 37,
     "metadata": {},
     "output_type": "execute_result"
    }
   ],
   "source": [
    "balanced_df.head(5)\n",
    "balanced_df.shape"
   ]
  },
  {
   "cell_type": "code",
   "execution_count": 38,
   "metadata": {},
   "outputs": [],
   "source": [
    "df_Seattle = balanced_df[[\"WEATHER\",\"ROADCOND\",\"LIGHTCOND\"]]"
   ]
  },
  {
   "cell_type": "code",
   "execution_count": 39,
   "metadata": {},
   "outputs": [
    {
     "data": {
      "text/plain": [
       "(100000, 3)"
      ]
     },
     "execution_count": 39,
     "metadata": {},
     "output_type": "execute_result"
    }
   ],
   "source": [
    "#df_Seattle.dropna(inplace = True)\n",
    "df_Seattle.shape"
   ]
  },
  {
   "cell_type": "code",
   "execution_count": 40,
   "metadata": {},
   "outputs": [
    {
     "data": {
      "text/plain": [
       "SEVERITYCODE\n",
       "1    Raining\n",
       "1      Clear\n",
       "1    Unknown\n",
       "1      Clear\n",
       "1      Clear\n",
       "Name: WEATHER, dtype: object"
      ]
     },
     "execution_count": 40,
     "metadata": {},
     "output_type": "execute_result"
    }
   ],
   "source": [
    "balanced_df_w = balanced_df['WEATHER']\n",
    "balanced_df_w.head()"
   ]
  },
  {
   "cell_type": "code",
   "execution_count": 41,
   "metadata": {},
   "outputs": [
    {
     "data": {
      "text/plain": [
       "(100000,)"
      ]
     },
     "execution_count": 41,
     "metadata": {},
     "output_type": "execute_result"
    }
   ],
   "source": [
    "#balanced_df_w.dropna(inplace=True)\n",
    "balanced_df_w.shape"
   ]
  },
  {
   "cell_type": "code",
   "execution_count": 42,
   "metadata": {},
   "outputs": [
    {
     "data": {
      "text/html": [
       "<div>\n",
       "<style scoped>\n",
       "    .dataframe tbody tr th:only-of-type {\n",
       "        vertical-align: middle;\n",
       "    }\n",
       "\n",
       "    .dataframe tbody tr th {\n",
       "        vertical-align: top;\n",
       "    }\n",
       "\n",
       "    .dataframe thead th {\n",
       "        text-align: right;\n",
       "    }\n",
       "</style>\n",
       "<table border=\"1\" class=\"dataframe\">\n",
       "  <thead>\n",
       "    <tr style=\"text-align: right;\">\n",
       "      <th></th>\n",
       "      <th>WEATHER</th>\n",
       "      <th>ROADCOND</th>\n",
       "      <th>LIGHTCOND</th>\n",
       "      <th>Blowing Sand/Dirt</th>\n",
       "      <th>Clear</th>\n",
       "      <th>Fog/Smog/Smoke</th>\n",
       "      <th>Other</th>\n",
       "      <th>Overcast</th>\n",
       "      <th>Partly Cloudy</th>\n",
       "      <th>Raining</th>\n",
       "      <th>Severe Crosswind</th>\n",
       "      <th>Sleet/Hail/Freezing Rain</th>\n",
       "      <th>Snowing</th>\n",
       "      <th>Unknown</th>\n",
       "    </tr>\n",
       "    <tr>\n",
       "      <th>SEVERITYCODE</th>\n",
       "      <th></th>\n",
       "      <th></th>\n",
       "      <th></th>\n",
       "      <th></th>\n",
       "      <th></th>\n",
       "      <th></th>\n",
       "      <th></th>\n",
       "      <th></th>\n",
       "      <th></th>\n",
       "      <th></th>\n",
       "      <th></th>\n",
       "      <th></th>\n",
       "      <th></th>\n",
       "      <th></th>\n",
       "    </tr>\n",
       "  </thead>\n",
       "  <tbody>\n",
       "    <tr>\n",
       "      <th>1</th>\n",
       "      <td>Raining</td>\n",
       "      <td>Wet</td>\n",
       "      <td>Dark - Street Lights On</td>\n",
       "      <td>0</td>\n",
       "      <td>0</td>\n",
       "      <td>0</td>\n",
       "      <td>0</td>\n",
       "      <td>0</td>\n",
       "      <td>0</td>\n",
       "      <td>1</td>\n",
       "      <td>0</td>\n",
       "      <td>0</td>\n",
       "      <td>0</td>\n",
       "      <td>0</td>\n",
       "    </tr>\n",
       "    <tr>\n",
       "      <th>1</th>\n",
       "      <td>Clear</td>\n",
       "      <td>Dry</td>\n",
       "      <td>Daylight</td>\n",
       "      <td>0</td>\n",
       "      <td>1</td>\n",
       "      <td>0</td>\n",
       "      <td>0</td>\n",
       "      <td>0</td>\n",
       "      <td>0</td>\n",
       "      <td>0</td>\n",
       "      <td>0</td>\n",
       "      <td>0</td>\n",
       "      <td>0</td>\n",
       "      <td>0</td>\n",
       "    </tr>\n",
       "    <tr>\n",
       "      <th>1</th>\n",
       "      <td>Unknown</td>\n",
       "      <td>Unknown</td>\n",
       "      <td>Unknown</td>\n",
       "      <td>0</td>\n",
       "      <td>0</td>\n",
       "      <td>0</td>\n",
       "      <td>0</td>\n",
       "      <td>0</td>\n",
       "      <td>0</td>\n",
       "      <td>0</td>\n",
       "      <td>0</td>\n",
       "      <td>0</td>\n",
       "      <td>0</td>\n",
       "      <td>1</td>\n",
       "    </tr>\n",
       "    <tr>\n",
       "      <th>1</th>\n",
       "      <td>Clear</td>\n",
       "      <td>Dry</td>\n",
       "      <td>Daylight</td>\n",
       "      <td>0</td>\n",
       "      <td>1</td>\n",
       "      <td>0</td>\n",
       "      <td>0</td>\n",
       "      <td>0</td>\n",
       "      <td>0</td>\n",
       "      <td>0</td>\n",
       "      <td>0</td>\n",
       "      <td>0</td>\n",
       "      <td>0</td>\n",
       "      <td>0</td>\n",
       "    </tr>\n",
       "    <tr>\n",
       "      <th>1</th>\n",
       "      <td>Clear</td>\n",
       "      <td>Dry</td>\n",
       "      <td>Daylight</td>\n",
       "      <td>0</td>\n",
       "      <td>1</td>\n",
       "      <td>0</td>\n",
       "      <td>0</td>\n",
       "      <td>0</td>\n",
       "      <td>0</td>\n",
       "      <td>0</td>\n",
       "      <td>0</td>\n",
       "      <td>0</td>\n",
       "      <td>0</td>\n",
       "      <td>0</td>\n",
       "    </tr>\n",
       "  </tbody>\n",
       "</table>\n",
       "</div>"
      ],
      "text/plain": [
       "              WEATHER ROADCOND                LIGHTCOND  Blowing Sand/Dirt  \\\n",
       "SEVERITYCODE                                                                 \n",
       "1             Raining      Wet  Dark - Street Lights On                  0   \n",
       "1               Clear      Dry                 Daylight                  0   \n",
       "1             Unknown  Unknown                  Unknown                  0   \n",
       "1               Clear      Dry                 Daylight                  0   \n",
       "1               Clear      Dry                 Daylight                  0   \n",
       "\n",
       "              Clear  Fog/Smog/Smoke  Other  Overcast  Partly Cloudy  Raining  \\\n",
       "SEVERITYCODE                                                                   \n",
       "1                 0               0      0         0              0        1   \n",
       "1                 1               0      0         0              0        0   \n",
       "1                 0               0      0         0              0        0   \n",
       "1                 1               0      0         0              0        0   \n",
       "1                 1               0      0         0              0        0   \n",
       "\n",
       "              Severe Crosswind  Sleet/Hail/Freezing Rain  Snowing  Unknown  \n",
       "SEVERITYCODE                                                                \n",
       "1                            0                         0        0        0  \n",
       "1                            0                         0        0        0  \n",
       "1                            0                         0        0        1  \n",
       "1                            0                         0        0        0  \n",
       "1                            0                         0        0        0  "
      ]
     },
     "execution_count": 42,
     "metadata": {},
     "output_type": "execute_result"
    }
   ],
   "source": [
    "df_Seattle = pd.concat([df_Seattle,pd.get_dummies(balanced_df_w)], axis=1)\n",
    "\n",
    "df_Seattle.head()"
   ]
  },
  {
   "cell_type": "code",
   "execution_count": 43,
   "metadata": {},
   "outputs": [
    {
     "data": {
      "text/plain": [
       "(100000, 14)"
      ]
     },
     "execution_count": 43,
     "metadata": {},
     "output_type": "execute_result"
    }
   ],
   "source": [
    "df_Seattle.shape"
   ]
  },
  {
   "cell_type": "code",
   "execution_count": 44,
   "metadata": {},
   "outputs": [],
   "source": [
    "df_Seattle.drop(['Unknown'], axis = 1,inplace=True)\n",
    "df_Seattle.drop([\"WEATHER\"],axis =1 , inplace = True)"
   ]
  },
  {
   "cell_type": "code",
   "execution_count": 45,
   "metadata": {},
   "outputs": [
    {
     "data": {
      "text/plain": [
       "(100000, 12)"
      ]
     },
     "execution_count": 45,
     "metadata": {},
     "output_type": "execute_result"
    }
   ],
   "source": [
    "df_Seattle.shape"
   ]
  },
  {
   "cell_type": "code",
   "execution_count": 46,
   "metadata": {},
   "outputs": [
    {
     "data": {
      "text/html": [
       "<div>\n",
       "<style scoped>\n",
       "    .dataframe tbody tr th:only-of-type {\n",
       "        vertical-align: middle;\n",
       "    }\n",
       "\n",
       "    .dataframe tbody tr th {\n",
       "        vertical-align: top;\n",
       "    }\n",
       "\n",
       "    .dataframe thead th {\n",
       "        text-align: right;\n",
       "    }\n",
       "</style>\n",
       "<table border=\"1\" class=\"dataframe\">\n",
       "  <thead>\n",
       "    <tr style=\"text-align: right;\">\n",
       "      <th></th>\n",
       "      <th>ROADCOND</th>\n",
       "      <th>LIGHTCOND</th>\n",
       "      <th>Blowing Sand/Dirt</th>\n",
       "      <th>Clear</th>\n",
       "      <th>Fog/Smog/Smoke</th>\n",
       "      <th>Other</th>\n",
       "      <th>Overcast</th>\n",
       "      <th>Partly Cloudy</th>\n",
       "      <th>Raining</th>\n",
       "      <th>Severe Crosswind</th>\n",
       "      <th>...</th>\n",
       "      <th>Snowing</th>\n",
       "      <th>Dry</th>\n",
       "      <th>Ice</th>\n",
       "      <th>Oil</th>\n",
       "      <th>Other</th>\n",
       "      <th>Sand/Mud/Dirt</th>\n",
       "      <th>Snow/Slush</th>\n",
       "      <th>Standing Water</th>\n",
       "      <th>Unknown</th>\n",
       "      <th>Wet</th>\n",
       "    </tr>\n",
       "    <tr>\n",
       "      <th>SEVERITYCODE</th>\n",
       "      <th></th>\n",
       "      <th></th>\n",
       "      <th></th>\n",
       "      <th></th>\n",
       "      <th></th>\n",
       "      <th></th>\n",
       "      <th></th>\n",
       "      <th></th>\n",
       "      <th></th>\n",
       "      <th></th>\n",
       "      <th></th>\n",
       "      <th></th>\n",
       "      <th></th>\n",
       "      <th></th>\n",
       "      <th></th>\n",
       "      <th></th>\n",
       "      <th></th>\n",
       "      <th></th>\n",
       "      <th></th>\n",
       "      <th></th>\n",
       "      <th></th>\n",
       "    </tr>\n",
       "  </thead>\n",
       "  <tbody>\n",
       "    <tr>\n",
       "      <th>1</th>\n",
       "      <td>Wet</td>\n",
       "      <td>Dark - Street Lights On</td>\n",
       "      <td>0</td>\n",
       "      <td>0</td>\n",
       "      <td>0</td>\n",
       "      <td>0</td>\n",
       "      <td>0</td>\n",
       "      <td>0</td>\n",
       "      <td>1</td>\n",
       "      <td>0</td>\n",
       "      <td>...</td>\n",
       "      <td>0</td>\n",
       "      <td>0</td>\n",
       "      <td>0</td>\n",
       "      <td>0</td>\n",
       "      <td>0</td>\n",
       "      <td>0</td>\n",
       "      <td>0</td>\n",
       "      <td>0</td>\n",
       "      <td>0</td>\n",
       "      <td>1</td>\n",
       "    </tr>\n",
       "    <tr>\n",
       "      <th>1</th>\n",
       "      <td>Dry</td>\n",
       "      <td>Daylight</td>\n",
       "      <td>0</td>\n",
       "      <td>1</td>\n",
       "      <td>0</td>\n",
       "      <td>0</td>\n",
       "      <td>0</td>\n",
       "      <td>0</td>\n",
       "      <td>0</td>\n",
       "      <td>0</td>\n",
       "      <td>...</td>\n",
       "      <td>0</td>\n",
       "      <td>1</td>\n",
       "      <td>0</td>\n",
       "      <td>0</td>\n",
       "      <td>0</td>\n",
       "      <td>0</td>\n",
       "      <td>0</td>\n",
       "      <td>0</td>\n",
       "      <td>0</td>\n",
       "      <td>0</td>\n",
       "    </tr>\n",
       "    <tr>\n",
       "      <th>1</th>\n",
       "      <td>Unknown</td>\n",
       "      <td>Unknown</td>\n",
       "      <td>0</td>\n",
       "      <td>0</td>\n",
       "      <td>0</td>\n",
       "      <td>0</td>\n",
       "      <td>0</td>\n",
       "      <td>0</td>\n",
       "      <td>0</td>\n",
       "      <td>0</td>\n",
       "      <td>...</td>\n",
       "      <td>0</td>\n",
       "      <td>0</td>\n",
       "      <td>0</td>\n",
       "      <td>0</td>\n",
       "      <td>0</td>\n",
       "      <td>0</td>\n",
       "      <td>0</td>\n",
       "      <td>0</td>\n",
       "      <td>1</td>\n",
       "      <td>0</td>\n",
       "    </tr>\n",
       "    <tr>\n",
       "      <th>1</th>\n",
       "      <td>Dry</td>\n",
       "      <td>Daylight</td>\n",
       "      <td>0</td>\n",
       "      <td>1</td>\n",
       "      <td>0</td>\n",
       "      <td>0</td>\n",
       "      <td>0</td>\n",
       "      <td>0</td>\n",
       "      <td>0</td>\n",
       "      <td>0</td>\n",
       "      <td>...</td>\n",
       "      <td>0</td>\n",
       "      <td>1</td>\n",
       "      <td>0</td>\n",
       "      <td>0</td>\n",
       "      <td>0</td>\n",
       "      <td>0</td>\n",
       "      <td>0</td>\n",
       "      <td>0</td>\n",
       "      <td>0</td>\n",
       "      <td>0</td>\n",
       "    </tr>\n",
       "    <tr>\n",
       "      <th>1</th>\n",
       "      <td>Dry</td>\n",
       "      <td>Daylight</td>\n",
       "      <td>0</td>\n",
       "      <td>1</td>\n",
       "      <td>0</td>\n",
       "      <td>0</td>\n",
       "      <td>0</td>\n",
       "      <td>0</td>\n",
       "      <td>0</td>\n",
       "      <td>0</td>\n",
       "      <td>...</td>\n",
       "      <td>0</td>\n",
       "      <td>1</td>\n",
       "      <td>0</td>\n",
       "      <td>0</td>\n",
       "      <td>0</td>\n",
       "      <td>0</td>\n",
       "      <td>0</td>\n",
       "      <td>0</td>\n",
       "      <td>0</td>\n",
       "      <td>0</td>\n",
       "    </tr>\n",
       "  </tbody>\n",
       "</table>\n",
       "<p>5 rows × 21 columns</p>\n",
       "</div>"
      ],
      "text/plain": [
       "             ROADCOND                LIGHTCOND  Blowing Sand/Dirt  Clear  \\\n",
       "SEVERITYCODE                                                               \n",
       "1                 Wet  Dark - Street Lights On                  0      0   \n",
       "1                 Dry                 Daylight                  0      1   \n",
       "1             Unknown                  Unknown                  0      0   \n",
       "1                 Dry                 Daylight                  0      1   \n",
       "1                 Dry                 Daylight                  0      1   \n",
       "\n",
       "              Fog/Smog/Smoke  Other  Overcast  Partly Cloudy  Raining  \\\n",
       "SEVERITYCODE                                                            \n",
       "1                          0      0         0              0        1   \n",
       "1                          0      0         0              0        0   \n",
       "1                          0      0         0              0        0   \n",
       "1                          0      0         0              0        0   \n",
       "1                          0      0         0              0        0   \n",
       "\n",
       "              Severe Crosswind  ...  Snowing  Dry  Ice  Oil  Other  \\\n",
       "SEVERITYCODE                    ...                                  \n",
       "1                            0  ...        0    0    0    0      0   \n",
       "1                            0  ...        0    1    0    0      0   \n",
       "1                            0  ...        0    0    0    0      0   \n",
       "1                            0  ...        0    1    0    0      0   \n",
       "1                            0  ...        0    1    0    0      0   \n",
       "\n",
       "              Sand/Mud/Dirt  Snow/Slush  Standing Water  Unknown  Wet  \n",
       "SEVERITYCODE                                                           \n",
       "1                         0           0               0        0    1  \n",
       "1                         0           0               0        0    0  \n",
       "1                         0           0               0        1    0  \n",
       "1                         0           0               0        0    0  \n",
       "1                         0           0               0        0    0  \n",
       "\n",
       "[5 rows x 21 columns]"
      ]
     },
     "execution_count": 46,
     "metadata": {},
     "output_type": "execute_result"
    }
   ],
   "source": [
    "df_Seattle = pd.concat([df_Seattle,pd.get_dummies(balanced_df[\"ROADCOND\"])], axis=1)\n",
    "df_Seattle.head(5)"
   ]
  },
  {
   "cell_type": "code",
   "execution_count": 47,
   "metadata": {},
   "outputs": [
    {
     "data": {
      "text/plain": [
       "(100000, 19)"
      ]
     },
     "execution_count": 47,
     "metadata": {},
     "output_type": "execute_result"
    }
   ],
   "source": [
    "df_Seattle.drop(['Unknown'], axis = 1,inplace=True)\n",
    "df_Seattle.drop([\"ROADCOND\"],axis =1 , inplace = True)\n",
    "df_Seattle.shape"
   ]
  },
  {
   "cell_type": "code",
   "execution_count": 48,
   "metadata": {},
   "outputs": [
    {
     "data": {
      "text/plain": [
       "(100000, 28)"
      ]
     },
     "execution_count": 48,
     "metadata": {},
     "output_type": "execute_result"
    }
   ],
   "source": [
    "df_Seattle = pd.concat([df_Seattle,pd.get_dummies(balanced_df[\"LIGHTCOND\"])], axis=1)\n",
    "df_Seattle.shape"
   ]
  },
  {
   "cell_type": "code",
   "execution_count": 49,
   "metadata": {},
   "outputs": [
    {
     "data": {
      "text/html": [
       "<div>\n",
       "<style scoped>\n",
       "    .dataframe tbody tr th:only-of-type {\n",
       "        vertical-align: middle;\n",
       "    }\n",
       "\n",
       "    .dataframe tbody tr th {\n",
       "        vertical-align: top;\n",
       "    }\n",
       "\n",
       "    .dataframe thead th {\n",
       "        text-align: right;\n",
       "    }\n",
       "</style>\n",
       "<table border=\"1\" class=\"dataframe\">\n",
       "  <thead>\n",
       "    <tr style=\"text-align: right;\">\n",
       "      <th></th>\n",
       "      <th>Blowing Sand/Dirt</th>\n",
       "      <th>Clear</th>\n",
       "      <th>Fog/Smog/Smoke</th>\n",
       "      <th>Other</th>\n",
       "      <th>Overcast</th>\n",
       "      <th>Partly Cloudy</th>\n",
       "      <th>Raining</th>\n",
       "      <th>Severe Crosswind</th>\n",
       "      <th>Sleet/Hail/Freezing Rain</th>\n",
       "      <th>Snowing</th>\n",
       "      <th>...</th>\n",
       "      <th>Standing Water</th>\n",
       "      <th>Wet</th>\n",
       "      <th>Dark - No Street Lights</th>\n",
       "      <th>Dark - Street Lights Off</th>\n",
       "      <th>Dark - Street Lights On</th>\n",
       "      <th>Dark - Unknown Lighting</th>\n",
       "      <th>Dawn</th>\n",
       "      <th>Daylight</th>\n",
       "      <th>Dusk</th>\n",
       "      <th>Other</th>\n",
       "    </tr>\n",
       "    <tr>\n",
       "      <th>SEVERITYCODE</th>\n",
       "      <th></th>\n",
       "      <th></th>\n",
       "      <th></th>\n",
       "      <th></th>\n",
       "      <th></th>\n",
       "      <th></th>\n",
       "      <th></th>\n",
       "      <th></th>\n",
       "      <th></th>\n",
       "      <th></th>\n",
       "      <th></th>\n",
       "      <th></th>\n",
       "      <th></th>\n",
       "      <th></th>\n",
       "      <th></th>\n",
       "      <th></th>\n",
       "      <th></th>\n",
       "      <th></th>\n",
       "      <th></th>\n",
       "      <th></th>\n",
       "      <th></th>\n",
       "    </tr>\n",
       "  </thead>\n",
       "  <tbody>\n",
       "    <tr>\n",
       "      <th>1</th>\n",
       "      <td>0</td>\n",
       "      <td>0</td>\n",
       "      <td>0</td>\n",
       "      <td>0</td>\n",
       "      <td>0</td>\n",
       "      <td>0</td>\n",
       "      <td>1</td>\n",
       "      <td>0</td>\n",
       "      <td>0</td>\n",
       "      <td>0</td>\n",
       "      <td>...</td>\n",
       "      <td>0</td>\n",
       "      <td>1</td>\n",
       "      <td>0</td>\n",
       "      <td>0</td>\n",
       "      <td>1</td>\n",
       "      <td>0</td>\n",
       "      <td>0</td>\n",
       "      <td>0</td>\n",
       "      <td>0</td>\n",
       "      <td>0</td>\n",
       "    </tr>\n",
       "    <tr>\n",
       "      <th>1</th>\n",
       "      <td>0</td>\n",
       "      <td>1</td>\n",
       "      <td>0</td>\n",
       "      <td>0</td>\n",
       "      <td>0</td>\n",
       "      <td>0</td>\n",
       "      <td>0</td>\n",
       "      <td>0</td>\n",
       "      <td>0</td>\n",
       "      <td>0</td>\n",
       "      <td>...</td>\n",
       "      <td>0</td>\n",
       "      <td>0</td>\n",
       "      <td>0</td>\n",
       "      <td>0</td>\n",
       "      <td>0</td>\n",
       "      <td>0</td>\n",
       "      <td>0</td>\n",
       "      <td>1</td>\n",
       "      <td>0</td>\n",
       "      <td>0</td>\n",
       "    </tr>\n",
       "    <tr>\n",
       "      <th>1</th>\n",
       "      <td>0</td>\n",
       "      <td>0</td>\n",
       "      <td>0</td>\n",
       "      <td>0</td>\n",
       "      <td>0</td>\n",
       "      <td>0</td>\n",
       "      <td>0</td>\n",
       "      <td>0</td>\n",
       "      <td>0</td>\n",
       "      <td>0</td>\n",
       "      <td>...</td>\n",
       "      <td>0</td>\n",
       "      <td>0</td>\n",
       "      <td>0</td>\n",
       "      <td>0</td>\n",
       "      <td>0</td>\n",
       "      <td>0</td>\n",
       "      <td>0</td>\n",
       "      <td>0</td>\n",
       "      <td>0</td>\n",
       "      <td>0</td>\n",
       "    </tr>\n",
       "    <tr>\n",
       "      <th>1</th>\n",
       "      <td>0</td>\n",
       "      <td>1</td>\n",
       "      <td>0</td>\n",
       "      <td>0</td>\n",
       "      <td>0</td>\n",
       "      <td>0</td>\n",
       "      <td>0</td>\n",
       "      <td>0</td>\n",
       "      <td>0</td>\n",
       "      <td>0</td>\n",
       "      <td>...</td>\n",
       "      <td>0</td>\n",
       "      <td>0</td>\n",
       "      <td>0</td>\n",
       "      <td>0</td>\n",
       "      <td>0</td>\n",
       "      <td>0</td>\n",
       "      <td>0</td>\n",
       "      <td>1</td>\n",
       "      <td>0</td>\n",
       "      <td>0</td>\n",
       "    </tr>\n",
       "    <tr>\n",
       "      <th>1</th>\n",
       "      <td>0</td>\n",
       "      <td>1</td>\n",
       "      <td>0</td>\n",
       "      <td>0</td>\n",
       "      <td>0</td>\n",
       "      <td>0</td>\n",
       "      <td>0</td>\n",
       "      <td>0</td>\n",
       "      <td>0</td>\n",
       "      <td>0</td>\n",
       "      <td>...</td>\n",
       "      <td>0</td>\n",
       "      <td>0</td>\n",
       "      <td>0</td>\n",
       "      <td>0</td>\n",
       "      <td>0</td>\n",
       "      <td>0</td>\n",
       "      <td>0</td>\n",
       "      <td>1</td>\n",
       "      <td>0</td>\n",
       "      <td>0</td>\n",
       "    </tr>\n",
       "  </tbody>\n",
       "</table>\n",
       "<p>5 rows × 26 columns</p>\n",
       "</div>"
      ],
      "text/plain": [
       "              Blowing Sand/Dirt  Clear  Fog/Smog/Smoke  Other  Overcast  \\\n",
       "SEVERITYCODE                                                              \n",
       "1                             0      0               0      0         0   \n",
       "1                             0      1               0      0         0   \n",
       "1                             0      0               0      0         0   \n",
       "1                             0      1               0      0         0   \n",
       "1                             0      1               0      0         0   \n",
       "\n",
       "              Partly Cloudy  Raining  Severe Crosswind  \\\n",
       "SEVERITYCODE                                             \n",
       "1                         0        1                 0   \n",
       "1                         0        0                 0   \n",
       "1                         0        0                 0   \n",
       "1                         0        0                 0   \n",
       "1                         0        0                 0   \n",
       "\n",
       "              Sleet/Hail/Freezing Rain  Snowing  ...  Standing Water  Wet  \\\n",
       "SEVERITYCODE                                     ...                        \n",
       "1                                    0        0  ...               0    1   \n",
       "1                                    0        0  ...               0    0   \n",
       "1                                    0        0  ...               0    0   \n",
       "1                                    0        0  ...               0    0   \n",
       "1                                    0        0  ...               0    0   \n",
       "\n",
       "              Dark - No Street Lights  Dark - Street Lights Off  \\\n",
       "SEVERITYCODE                                                      \n",
       "1                                   0                         0   \n",
       "1                                   0                         0   \n",
       "1                                   0                         0   \n",
       "1                                   0                         0   \n",
       "1                                   0                         0   \n",
       "\n",
       "              Dark - Street Lights On  Dark - Unknown Lighting  Dawn  \\\n",
       "SEVERITYCODE                                                           \n",
       "1                                   1                        0     0   \n",
       "1                                   0                        0     0   \n",
       "1                                   0                        0     0   \n",
       "1                                   0                        0     0   \n",
       "1                                   0                        0     0   \n",
       "\n",
       "              Daylight  Dusk  Other  \n",
       "SEVERITYCODE                         \n",
       "1                    0     0      0  \n",
       "1                    1     0      0  \n",
       "1                    0     0      0  \n",
       "1                    1     0      0  \n",
       "1                    1     0      0  \n",
       "\n",
       "[5 rows x 26 columns]"
      ]
     },
     "execution_count": 49,
     "metadata": {},
     "output_type": "execute_result"
    }
   ],
   "source": [
    "df_Seattle.drop(['Unknown'], axis = 1,inplace=True)\n",
    "df_Seattle.drop([\"LIGHTCOND\"],axis =1 , inplace = True)\n",
    "df_Seattle.head()"
   ]
  },
  {
   "cell_type": "code",
   "execution_count": 54,
   "metadata": {},
   "outputs": [
    {
     "data": {
      "text/plain": [
       "array([1, 1, 1, 1, 1])"
      ]
     },
     "execution_count": 54,
     "metadata": {},
     "output_type": "execute_result"
    }
   ],
   "source": [
    "X = df_Seattle\n",
    "\n",
    "y = balanced_df[\"SEVERITYCODE\"].values\n",
    "y[0:5]"
   ]
  },
  {
   "cell_type": "markdown",
   "metadata": {},
   "source": [
    "## Normalizing the data"
   ]
  },
  {
   "cell_type": "code",
   "execution_count": 55,
   "metadata": {},
   "outputs": [
    {
     "name": "stdout",
     "output_type": "stream",
     "text": [
      "Train set: (70000, 26) (70000,)\n",
      "Test set: (30000, 26) (30000,)\n"
     ]
    }
   ],
   "source": [
    "X = preprocessing.StandardScaler().fit(X).transform(X)\n",
    "X_train, X_test, y_train, y_test = train_test_split( X, y, test_size=0.3, random_state=42)\n",
    "\n",
    "print ('Train set:', X_train.shape,  y_train.shape)\n",
    "print ('Test set:', X_test.shape,  y_test.shape)"
   ]
  },
  {
   "cell_type": "markdown",
   "metadata": {},
   "source": [
    "## K-Nearest Neighbor (KNN)"
   ]
  },
  {
   "cell_type": "code",
   "execution_count": 56,
   "metadata": {},
   "outputs": [],
   "source": [
    "from sklearn.neighbors import KNeighborsClassifier as knn\n",
    "from sklearn.tree import DecisionTreeClassifier \n",
    "from sklearn.ensemble import RandomForestClassifier\n",
    "\n",
    "from sklearn.metrics import confusion_matrix, accuracy_score, f1_score, jaccard_score\n",
    "\n",
    "from sklearn.model_selection import train_test_split\n",
    "from sklearn import preprocessing\n",
    "\n",
    "\n",
    "def plot_conf_mat(y_true, y_pred, title, labels=['0', '1']):\n",
    "    confmat = confusion_matrix(y_true=y_true, y_pred=y_pred)\n",
    "    conf_matrix = pd.DataFrame(\n",
    "        data=confmat,\n",
    "        columns=['Predicted:{}'.format(label) for label in labels],\n",
    "        index=['Actual:{}'.format(label) for label in labels])\n",
    "    sns.heatmap(\n",
    "        conf_matrix, \n",
    "        annot=True,\n",
    "        fmt='d',\n",
    "        cmap=\"coolwarm\").set_title(title, fontsize=16)\n",
    "    plt.show()\n",
    "    return"
   ]
  },
  {
   "cell_type": "code",
   "execution_count": 57,
   "metadata": {},
   "outputs": [
    {
     "name": "stdout",
     "output_type": "stream",
     "text": [
      "k = 1 ; Mean Accuracy = 0.5129333333333334\n",
      "k = 2 ; Mean Accuracy = 0.5026333333333334\n",
      "k = 3 ; Mean Accuracy = 0.5412666666666667\n",
      "k = 4 ; Mean Accuracy = 0.49883333333333335\n",
      "k = 5 ; Mean Accuracy = 0.49903333333333333\n",
      "k = 6 ; Mean Accuracy = 0.4984\n",
      "k = 7 ; Mean Accuracy = 0.501\n",
      "k = 8 ; Mean Accuracy = 0.5020333333333333\n",
      "k = 9 ; Mean Accuracy = 0.5417\n",
      "Best k = 9\n"
     ]
    }
   ],
   "source": [
    "# HyperParameter tuning (best_k = 5)\n",
    "\n",
    "best_k = -1\n",
    "best_acc = -1\n",
    "for k in range(1, 10):\n",
    "    knn_cl = knn(n_neighbors = k)\n",
    "    knn_cl.fit(X_train, y_train)\n",
    "    y_pred = knn_cl.predict(X_test)\n",
    "    acc_score = accuracy_score(y_test, y_pred)\n",
    "    print(\"k = {} ; Mean Accuracy = {}\".format(k, acc_score))\n",
    "    if acc_score > best_acc:\n",
    "        best_k = k\n",
    "        best_acc = acc_score\n",
    "\n",
    "print(\"Best k =\", best_k)"
   ]
  },
  {
   "cell_type": "code",
   "execution_count": 58,
   "metadata": {},
   "outputs": [
    {
     "data": {
      "text/plain": [
       "KNeighborsClassifier(n_neighbors=9)"
      ]
     },
     "execution_count": 58,
     "metadata": {},
     "output_type": "execute_result"
    }
   ],
   "source": [
    "# Final Model with best value of k\n",
    "\n",
    "knn_final = knn(n_neighbors = best_k)\n",
    "knn_final.fit(X_train, y_train)\n",
    "y_pred_knn = knn_final.predict(X_test)\n",
    "\n",
    "knn_final"
   ]
  },
  {
   "cell_type": "code",
   "execution_count": 59,
   "metadata": {},
   "outputs": [
    {
     "data": {
      "image/png": "[encoded data removed]",
      "text/plain": [
       "<Figure size 432x288 with 2 Axes>"
      ]
     },
     "metadata": {
      "needs_background": "light"
     },
     "output_type": "display_data"
    }
   ],
   "source": [
    "plot_conf_mat(y_test, y_pred_knn, \"Confusion Matrix for KNN with K = {}\".format(best_k))"
   ]
  },
  {
   "cell_type": "code",
   "execution_count": 72,
   "metadata": {},
   "outputs": [
    {
     "name": "stdout",
     "output_type": "stream",
     "text": [
      "KNN F1-score: 0.52\n"
     ]
    }
   ],
   "source": [
    "from sklearn.metrics import log_loss\n",
    "f1 = f1_score(y_test, y_pred_knn, average='weighted')\n",
    "print(\"KNN F1-score: %.2f\" % f1 )"
   ]
  },
  {
   "cell_type": "markdown",
   "metadata": {},
   "source": [
    "## Decision Tree"
   ]
  },
  {
   "cell_type": "code",
   "execution_count": 64,
   "metadata": {},
   "outputs": [
    {
     "name": "stdout",
     "output_type": "stream",
     "text": [
      "k = 1 ; F1 Score = 0.5366586457160867\n",
      "k = 2 ; F1 Score = 0.5366586457160867\n",
      "k = 3 ; F1 Score = 0.5347373595543771\n",
      "k = 4 ; F1 Score = 0.5329524402912474\n",
      "k = 5 ; F1 Score = 0.5358445688286566\n",
      "k = 6 ; F1 Score = 0.5360711636323899\n",
      "k = 7 ; F1 Score = 0.5363145560310936\n",
      "k = 8 ; F1 Score = 0.5372532198906355\n",
      "k = 9 ; F1 Score = 0.5380976117678646\n",
      "k = 10 ; F1 Score = 0.5372378798657411\n",
      "k = 11 ; F1 Score = 0.5368783930202639\n",
      "k = 12 ; F1 Score = 0.5369091285783295\n",
      "k = 13 ; F1 Score = 0.5368663593048569\n",
      "k = 14 ; F1 Score = 0.5369217057810111\n",
      "k = 15 ; F1 Score = 0.5369368032383415\n",
      "k = 16 ; F1 Score = 0.5368235875524245\n",
      "k = 17 ; F1 Score = 0.5368386857928988\n",
      "k = 18 ; F1 Score = 0.5368386857928988\n",
      "k = 19 ; F1 Score = 0.5368940326341657\n",
      "Best d = 9\n"
     ]
    }
   ],
   "source": [
    "# HyperParameter tuning \n",
    "\n",
    "best_d = -1\n",
    "best_f1 = -1\n",
    "\n",
    "for d in (range(1, 20)):\n",
    "    dt_cl = DecisionTreeClassifier(criterion = 'gini', max_depth = d)\n",
    "    dt_cl.fit(X_train, y_train)\n",
    "    y_pred = dt_cl.predict(X_test)\n",
    "    f1_sc = f1_score(y_test, y_pred, average = 'weighted')\n",
    "    print(\"k = {} ; F1 Score = {}\".format(d, f1_sc))\n",
    "    if f1_sc > best_f1:\n",
    "        best_d = d\n",
    "        best_f1 = f1_sc\n",
    "print(\"Best d =\", best_d)"
   ]
  },
  {
   "cell_type": "code",
   "execution_count": 65,
   "metadata": {},
   "outputs": [
    {
     "data": {
      "text/plain": [
       "DecisionTreeClassifier(max_depth=9)"
      ]
     },
     "execution_count": 65,
     "metadata": {},
     "output_type": "execute_result"
    }
   ],
   "source": [
    "dt_cl = DecisionTreeClassifier(criterion = 'gini', max_depth = best_d)\n",
    "dt_cl.fit(X_train, y_train)\n",
    "y_pred_dt = dt_cl.predict(X_test)\n",
    "\n",
    "dt_cl"
   ]
  },
  {
   "cell_type": "code",
   "execution_count": 66,
   "metadata": {},
   "outputs": [
    {
     "data": {
      "image/png": "[encoded data removed]",
      "text/plain": [
       "<Figure size 432x288 with 2 Axes>"
      ]
     },
     "metadata": {
      "needs_background": "light"
     },
     "output_type": "display_data"
    }
   ],
   "source": [
    "plot_conf_mat(y_test, y_pred_dt, \"Confusion Matrix for Decision Tree\")\n"
   ]
  },
  {
   "cell_type": "code",
   "execution_count": 73,
   "metadata": {},
   "outputs": [
    {
     "name": "stdout",
     "output_type": "stream",
     "text": [
      "DT F1-score: 0.54\n"
     ]
    }
   ],
   "source": [
    "f2 = round(f1_score(y_test, y_pred_dt, average = 'weighted'), 2)\n",
    "print(\"DT F1-score: %.2f\" % f2 )"
   ]
  },
  {
   "cell_type": "markdown",
   "metadata": {},
   "source": [
    "## Random Forest"
   ]
  },
  {
   "cell_type": "code",
   "execution_count": 74,
   "metadata": {},
   "outputs": [
    {
     "data": {
      "text/plain": [
       "RandomForestClassifier(n_estimators=300, random_state=0)"
      ]
     },
     "execution_count": 74,
     "metadata": {},
     "output_type": "execute_result"
    }
   ],
   "source": [
    "rdf_cl = RandomForestClassifier(n_estimators=300, random_state=0)\n",
    "rdf_cl.fit(X_train, y_train)\n",
    "y_pred_rdf = rdf_cl.predict(X_test)\n",
    "\n",
    "rdf_cl"
   ]
  },
  {
   "cell_type": "code",
   "execution_count": 75,
   "metadata": {},
   "outputs": [
    {
     "data": {
      "image/png": "[encoded data removed]",
      "text/plain": [
       "<Figure size 432x288 with 2 Axes>"
      ]
     },
     "metadata": {
      "needs_background": "light"
     },
     "output_type": "display_data"
    }
   ],
   "source": [
    "plot_conf_mat(y_test, y_pred_rdf, \"Confusion Matrix for Random Forest\")"
   ]
  },
  {
   "cell_type": "code",
   "execution_count": 78,
   "metadata": {},
   "outputs": [
    {
     "name": "stdout",
     "output_type": "stream",
     "text": [
      "DT F1-score: 0.54\n"
     ]
    }
   ],
   "source": [
    "f3 = round(f1_score(y_test, y_pred_rdf, average = 'weighted'), 2)\n",
    "print(\"DT F1-score: %.2f\" % f3 )"
   ]
  },
  {
   "cell_type": "code",
   "execution_count": null,
   "metadata": {},
   "outputs": [],
   "source": []
  }
 ],
 "metadata": {
  "kernelspec": {
   "display_name": "Python 3",
   "language": "python",
   "name": "python3"
  },
  "language_info": {
   "codemirror_mode": {
    "name": "ipython",
    "version": 3
   },
   "file_extension": ".py",
   "mimetype": "text/x-python",
   "name": "python",
   "nbconvert_exporter": "python",
   "pygments_lexer": "ipython3",
   "version": "3.8.2"
  }
 },
 "nbformat": 4,
 "nbformat_minor": 4
}
